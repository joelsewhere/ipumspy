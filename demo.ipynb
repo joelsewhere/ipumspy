{
 "cells": [
  {
   "cell_type": "markdown",
   "metadata": {},
   "source": [
    "# Demo of ipumspy\n",
    "\n",
    "Create and validate dataset instances."
   ]
  },
  {
   "cell_type": "code",
   "execution_count": 2,
   "metadata": {
    "ExecuteTime": {
     "end_time": "2020-10-25T02:09:10.985646Z",
     "start_time": "2020-10-25T02:09:10.229133Z"
    }
   },
   "outputs": [
    {
     "name": "stderr",
     "output_type": "stream",
     "text": [
      "/Users/joel/Documents/projects/Python/ipumspy/ipumspy.py:278: UserWarning: \n",
      "                    \n",
      "                    Geographic level: 'blck_grp' for Dataset: '2000_SF1b'\n",
      "                    requires geog_extent selection when extraction is made.\n",
      "                    Available geographic extent options can be accessed with the\n",
      "                    `NHGIS.geographic_extent_options` attribute.\n",
      "                    The `NHGIS.create_extract` method has a default geog_extent of ['*']\n",
      "                    \n",
      "                    \n",
      "  \"\"\")\n"
     ]
    }
   ],
   "source": [
    "import os\n",
    "from ipumspy import NHGIS\n",
    "\n",
    "key = os.getenv('IPUMS_KEY')\n",
    "api = NHGIS(key)\n",
    "\n",
    "dataset_1 = api.dataset(dataset = \"1988_1997_CBPa\", data_tables = [\"NT001\"],\n",
    "                        geog_levels = [\"county\"],\n",
    "                        breakdowns = [\"bs30.si0762\", \"bs30.si2026\"],\n",
    "                        years=[1988, 1989, 1990, 1991, 1992, 1993, 1994])\n",
    "\n",
    "dataset_2 = api.dataset(dataset = \"2000_SF1b\", data_tables = [\"NP001A\"],\n",
    "                        geog_levels = [\"blck_grp\"])\n",
    "\n",
    "time_series = api.time_series(data_table = \"A00\", geog_levels = [\"state\"])"
   ]
  },
  {
   "cell_type": "markdown",
   "metadata": {},
   "source": [
    "## Create extraction"
   ]
  },
  {
   "cell_type": "code",
   "execution_count": 2,
   "metadata": {
    "ExecuteTime": {
     "end_time": "2020-10-25T01:48:00.407310Z",
     "start_time": "2020-10-25T01:47:59.146307Z"
    }
   },
   "outputs": [
    {
     "data": {
      "text/plain": [
       "{'data_format': 'csv_no_header',\n",
       " 'description': 'ipumspy extract',\n",
       " 'time_series_table_layout': 'time_by_file_layout',\n",
       " 'breakdown_and_data_type_layout': 'single_file',\n",
       " 'shapefiles': ['us_state_1790_tl2000'],\n",
       " 'geographic_extents': ['010'],\n",
       " 'datasets': {'1988_1997_CBPa': {'years': ['1988',\n",
       "    '1989',\n",
       "    '1990',\n",
       "    '1991',\n",
       "    '1992',\n",
       "    '1993',\n",
       "    '1994'],\n",
       "   'breakdown_values': ['bs30.si0762', 'bs30.si2026'],\n",
       "   'data_tables': ['NT001'],\n",
       "   'geog_levels': ['county']},\n",
       "  '2000_SF1b': {'years': [],\n",
       "   'breakdown_values': [],\n",
       "   'data_tables': ['NP001A'],\n",
       "   'geog_levels': ['blck_grp']}},\n",
       " 'time_series_tables': {'A00': {'geog_levels': ['state']}},\n",
       " 'user_id': '9ee77680-79e5-0138-4935-0242ac190007',\n",
       " 'user_email': 'joelsewhere@gmail.com',\n",
       " 'number': 3}"
      ]
     },
     "execution_count": 2,
     "metadata": {},
     "output_type": "execute_result"
    }
   ],
   "source": [
    "api.create_extract(datasets = [dataset_1, dataset_2], \n",
    "                   time_series_tables=time_series,\n",
    "                   shapefiles = [\"us_state_1790_tl2000\"],\n",
    "                   time_series_table_layout = \"time_by_file_layout\",\n",
    "                   geographic_extents = [\"010\"],\n",
    "                  breakdown_and_data_type_layout = \"single_file\")"
   ]
  },
  {
   "cell_type": "markdown",
   "metadata": {},
   "source": [
    "# Download Data - Issue\n",
    "\n",
    "This code is built into ipumspy, but it does not work. Below, I follow the api documentation to demonstrate a error that seems to exist with download_links returned to the user. "
   ]
  },
  {
   "cell_type": "code",
   "execution_count": 12,
   "metadata": {
    "ExecuteTime": {
     "end_time": "2020-10-25T02:15:50.842410Z",
     "start_time": "2020-10-25T02:15:49.897802Z"
    }
   },
   "outputs": [],
   "source": [
    "import requests\n",
    "header = {\"Authorization\": key}\n",
    "extract_number = api.extract_number\n",
    "url = f\"https://api.ipums.org/extracts/{extract_number}?product=nhgis&version=v1\"\n",
    "response = requests.get(url, headers=header).json()\n",
    "download_links = response['download_links']"
   ]
  },
  {
   "cell_type": "code",
   "execution_count": 13,
   "metadata": {
    "ExecuteTime": {
     "end_time": "2020-10-25T02:15:52.671667Z",
     "start_time": "2020-10-25T02:15:52.668254Z"
    }
   },
   "outputs": [
    {
     "name": "stdout",
     "output_type": "stream",
     "text": [
      "{'codebook_preview': 'https://data2.nhgis.org/extracts/9ee77680-79e5-0138-4935-0242ac190007/3/nhgis0003_csv_PREVIEW.zip', 'table_data': 'https://data2.nhgis.org/extracts/9ee77680-79e5-0138-4935-0242ac190007/3/nhgis0003_csv.zip', 'gis_data': 'https://data2.nhgis.org/extracts/9ee77680-79e5-0138-4935-0242ac190007/3/nhgis0003_shape.zip'}\n"
     ]
    }
   ],
   "source": [
    "print(download_links)"
   ]
  },
  {
   "cell_type": "code",
   "execution_count": 14,
   "metadata": {
    "ExecuteTime": {
     "end_time": "2020-10-25T02:15:57.438418Z",
     "start_time": "2020-10-25T02:15:57.166934Z"
    }
   },
   "outputs": [],
   "source": [
    "response = requests.get(download_links[\"table_data\"], allow_redirects=True)"
   ]
  },
  {
   "cell_type": "code",
   "execution_count": 15,
   "metadata": {
    "ExecuteTime": {
     "end_time": "2020-10-25T02:16:11.369435Z",
     "start_time": "2020-10-25T02:16:11.366906Z"
    }
   },
   "outputs": [
    {
     "name": "stdout",
     "output_type": "stream",
     "text": [
      "Status Code: 404\n",
      "Status Reason: Not Found\n"
     ]
    }
   ],
   "source": [
    "print('Status Code:', response.status_code)\n",
    "print('Status Reason:', response.reason)"
   ]
  },
  {
   "cell_type": "code",
   "execution_count": 16,
   "metadata": {
    "ExecuteTime": {
     "end_time": "2020-10-25T02:16:12.854180Z",
     "start_time": "2020-10-25T02:16:12.851499Z"
    }
   },
   "outputs": [
    {
     "name": "stdout",
     "output_type": "stream",
     "text": [
      "<!DOCTYPE html>\n",
      "<html>\n",
      "<head>\n",
      "  <title>The page you were looking for doesn't exist (404)</title>\n",
      "  <style type=\"text/css\">\n",
      "    body { background-color: #fff; color: #666; text-align: center; font-family: arial, sans-serif; }\n",
      "    div.dialog {\n",
      "      width: 25em;\n",
      "      padding: 0 4em;\n",
      "      margin: 4em auto 0 auto;\n",
      "      border: 1px solid #ccc;\n",
      "      border-right-color: #999;\n",
      "      border-bottom-color: #999;\n",
      "    }\n",
      "    h1 { font-size: 100%; color: #f00; line-height: 1.5em; }\n",
      "  </style>\n",
      "</head>\n",
      "\n",
      "<body>\n",
      "  <!-- This file lives in public/404.html -->\n",
      "  <div class=\"dialog\">\n",
      "    <h1>The page you were looking for doesn't exist.</h1>\n",
      "    <p>You may have mistyped the address or the page may have moved.</p>\n",
      "  </div>\n",
      "</body>\n",
      "</html>\n",
      "\n"
     ]
    }
   ],
   "source": [
    "print(response.text)"
   ]
  }
 ],
 "metadata": {
  "kernelspec": {
   "display_name": "Python 3",
   "language": "python",
   "name": "python3"
  },
  "language_info": {
   "codemirror_mode": {
    "name": "ipython",
    "version": 3
   },
   "file_extension": ".py",
   "mimetype": "text/x-python",
   "name": "python",
   "nbconvert_exporter": "python",
   "pygments_lexer": "ipython3",
   "version": "3.7.7"
  },
  "toc": {
   "base_numbering": 1,
   "nav_menu": {},
   "number_sections": false,
   "sideBar": true,
   "skip_h1_title": true,
   "title_cell": "Table of Contents",
   "title_sidebar": "Contents",
   "toc_cell": false,
   "toc_position": {},
   "toc_section_display": true,
   "toc_window_display": false
  },
  "varInspector": {
   "cols": {
    "lenName": 16,
    "lenType": 16,
    "lenVar": 40
   },
   "kernels_config": {
    "python": {
     "delete_cmd_postfix": "",
     "delete_cmd_prefix": "del ",
     "library": "var_list.py",
     "varRefreshCmd": "print(var_dic_list())"
    },
    "r": {
     "delete_cmd_postfix": ") ",
     "delete_cmd_prefix": "rm(",
     "library": "var_list.r",
     "varRefreshCmd": "cat(var_dic_list()) "
    }
   },
   "types_to_exclude": [
    "module",
    "function",
    "builtin_function_or_method",
    "instance",
    "_Feature"
   ],
   "window_display": false
  }
 },
 "nbformat": 4,
 "nbformat_minor": 4
}
